{
 "cells": [
  {
   "cell_type": "code",
   "execution_count": null,
   "id": "66ebcfc7",
   "metadata": {},
   "outputs": [],
   "source": [
    "#  Write a unique paragraph (5-6 sentences) about your favorite topic (e.g., sports, technology, food, books, etc.). 1. Convert text to lowercase and remove punctua on. 2. Tokenize the text into words and sentences. 3. Remove stopwords (using NLTK's stopwords list). 4. Display word frequency distribu on (excluding stopwords). \n",
    "import nltk\n",
    "nltk.download('stopwords')\n",
    "\n"
   ]
  },
  {
   "cell_type": "code",
   "execution_count": null,
   "id": "957dd6cd",
   "metadata": {},
   "outputs": [],
   "source": [
    "corpus=\"\"\"Sports play a vital role in promoting physical fitness and mental well-being. They encourage teamwork, discipline, and perseverance among players of all ages. Popular sports like football, cricket, and basketball unite people across different cultures and backgrounds. Regular participation in sports helps reduce stress and boosts confidence. Whether played professionally or just for fun, sports contribute to a healthier lifestyle. They also provide entertainment and inspire millions of fans worldwide.\n",
    "\"\"\""
   ]
  }
 ],
 "metadata": {
  "kernelspec": {
   "display_name": "Python 3",
   "language": "python",
   "name": "python3"
  },
  "language_info": {
   "name": "python",
   "version": "3.12.0"
  }
 },
 "nbformat": 4,
 "nbformat_minor": 5
}
